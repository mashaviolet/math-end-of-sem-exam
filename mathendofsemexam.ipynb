{
 "cells": [
  {
   "cell_type": "markdown",
   "id": "75fab0b0-bb9e-4417-9b92-de30d49e650c",
   "metadata": {},
   "source": [
    "question 5"
   ]
  },
  {
   "cell_type": "code",
   "execution_count": 2,
   "id": "a3ceb1fa-782c-4dee-a0e9-934741e17bca",
   "metadata": {},
   "outputs": [],
   "source": [
    "import numpy as np"
   ]
  },
  {
   "cell_type": "code",
   "execution_count": 3,
   "id": "68422816-9348-4ce3-a7f1-af6b2718d0c2",
   "metadata": {},
   "outputs": [
    {
     "name": "stdout",
     "output_type": "stream",
     "text": [
      "[[1.  0.2 0.5]\n",
      " [0.2 1.  0.8]\n",
      " [0.5 0.8 1. ]]\n"
     ]
    }
   ],
   "source": [
    "matrix_A = np.array([[1,0.2,0.5],[0.2,1,0.8],[0.5,0.8,1]])\n",
    "print(matrix_A)"
   ]
  },
  {
   "cell_type": "code",
   "execution_count": 4,
   "id": "2960f0c5-fa44-4ec0-90f1-04169e8c409d",
   "metadata": {},
   "outputs": [],
   "source": [
    "A= matrix_A.T"
   ]
  },
  {
   "cell_type": "code",
   "execution_count": 5,
   "id": "8d80d88f-04fe-470b-81f7-9be365317ba1",
   "metadata": {},
   "outputs": [
    {
     "data": {
      "text/plain": [
       "array([[1. , 0.2, 0.5],\n",
       "       [0.2, 1. , 0.8],\n",
       "       [0.5, 0.8, 1. ]])"
      ]
     },
     "execution_count": 5,
     "metadata": {},
     "output_type": "execute_result"
    }
   ],
   "source": [
    "A"
   ]
  },
  {
   "cell_type": "code",
   "execution_count": 6,
   "id": "e74a36f3-8e3a-47b2-a8b9-1134ed1eb99d",
   "metadata": {},
   "outputs": [
    {
     "name": "stdout",
     "output_type": "stream",
     "text": [
      "0.2299999999999999\n"
     ]
    }
   ],
   "source": [
    "determinant = np.linalg.det(matrix_A)\n",
    "print (determinant)"
   ]
  },
  {
   "cell_type": "code",
   "execution_count": 27,
   "id": "ca6a3878-61e0-4a0d-bdc0-20bdc5690309",
   "metadata": {},
   "outputs": [
    {
     "name": "stdout",
     "output_type": "stream",
     "text": [
      "0.2299999999999999\n"
     ]
    }
   ],
   "source": [
    "determinant = np.linalg.det(A)\n",
    "print (determinant)"
   ]
  },
  {
   "cell_type": "code",
   "execution_count": 24,
   "id": "7ec82962-c10f-4a88-97c8-405e327c5bff",
   "metadata": {},
   "outputs": [
    {
     "name": "stdout",
     "output_type": "stream",
     "text": [
      "(3, 3)\n"
     ]
    }
   ],
   "source": [
    " T = np.shape(matrix_A)\n",
    "print(T)                 # transpose of a matrix"
   ]
  },
  {
   "cell_type": "markdown",
   "id": "f779478f-2a74-4a93-bf3c-1a3362531d30",
   "metadata": {},
   "source": [
    "question six"
   ]
  },
  {
   "cell_type": "code",
   "execution_count": 9,
   "id": "d75cce6c-c167-472a-86f5-f7f475203efb",
   "metadata": {},
   "outputs": [],
   "source": [
    "from numpy import random\n",
    "import seaborn as sns\n",
    "import matplotlib.pyplot as plt"
   ]
  },
  {
   "cell_type": "code",
   "execution_count": 10,
   "id": "2a000d6a-b0eb-4316-ba05-be9664cf808e",
   "metadata": {},
   "outputs": [
    {
     "name": "stdout",
     "output_type": "stream",
     "text": [
      "[ 6  3 10  5  1  5  4  7  7  5  7  3  8  4  4  6  4  4  3  3  5  7 10  7\n",
      "  1  6  6  4  4  5  1  3  8  4  8  8  8  4  2  3  1  3  5  5  4  3  6  2\n",
      "  6  5  3  3  4  6  3  7  2  3 10  5  4  4  3  1  8  2  3 10  6  2  4  4\n",
      "  4  5  6  3  1  2  4  4  0  6  9  6  5  8 10  7  3  3  1  4  3  4  7  4\n",
      "  2  2  8  7  6 10  5  5  7  6  5  6  9  4  6  3  7  4  6  5  3  5  3  7\n",
      "  5  3 10  5  3  5  4  6  5  7  9  5  3  5  4  2  8  6  4  1  2  6  4  2\n",
      "  6  3 10  6  1  7  5  8  3  4  3  3  4  7  2  7  3  1  5  4  7  7  7  5\n",
      "  5  5  4  7  3  2  3  6  3  7  1  6  6 10  8  4  6  6  6  5 10  3  6  5\n",
      "  5  5  1 10  5  5  6  3  5  5  8  2  3  2  7  7  2  4  8  2  6  4  6  4\n",
      "  5  7  4  3  4  3  6  4  8  6  5  5  7  2  9  6  6  6  6  9  9  4  2  4\n",
      "  5  4  4  1  2  2  6  6  2  5  8 14  2  4  5  7  3  4  7  2  4  4  0  7\n",
      "  3  4  3  5  6  5  5  4  2  6  5  3  6  8  3  6  4  4  4  8  2  3  4  3\n",
      "  6  4  8  6  3  3  5  8  1  6  6  6  7  6  4  4  2  2  3  5  3  1  7  5\n",
      "  7  8  6  5  5  3  8  4  9  4  2  6  3  4  4  2  2  6  4  6  4  3  3  2\n",
      "  6  3  7  3  7  2  5  5  6  7  6  3  2  6  6  4  6  5  8  9  4  4  5  2\n",
      "  6  8  5  4  8  5  4  3  4  5  4  9  4  7  3  4  5  9  3  7  5  2  3  3\n",
      "  3  3  6  4  6  4  6  5  9  5  3  7  5  7  4  6  5  3  7  7  7  1  1  9\n",
      "  4  9  5  6  6  5  1  5  3  2  2  7  6  3  2  6  2  7  2  3  4  3  2  3\n",
      "  3  4  1  7  5  5  4  4  2  7  4  3  7  4  4 11  4  5  6  6  6  3  4  6\n",
      "  4  6  6  2  6  9  4  4  5  4  6  8  6  5  6  8  2  4  3  3  6  7  3  2\n",
      "  2  3  1  3  5  5  6  4  5  5  7  4  6  9  5  1  2  3 10  5  3  2  5  5\n",
      "  8  6  4  8  7  2  3  8  2  7  2  7  3  5  7  6  1  8  2 10  3  4  6  2\n",
      " 10  5  3  6  7  7  4  7  2  5  7  2  7 10  5  9  4  7  4  2  7  6  4  7\n",
      "  5  5  7  3  2  5  4  9  8  2  2  5  4  5  6  2  4  0  5  7  3  3  1  6\n",
      "  6  4  5  4  2  7  8  1  3  2  5  6  5  4  6  6  8  7  7  5  7  1  1  4\n",
      "  8  2  4  9  3  4  7  4  8  6  4  3  7  6  6  6  9  3  9  2  6  6  7  3\n",
      "  5  7  7 10  2  3  2  6  4  5  4  3  5  5  6  4  4 10  4  9  1  2  4  6\n",
      "  4  2  3  4  5  4  3  6  5  3  3  3  3  5  7  5  4  3  3  5  2  3  5  8\n",
      "  2  6  5  8  5  4  3  2  3  7  6 13  6  4  3  5  2  5  6  3  3  6 10  3\n",
      "  6  4  5  8  6  6  3  9  7  4  1  6  3  7  1  8  7  4  6  7  6  5  2  7\n",
      "  6  5  5  7  5  2  1  4  5  4  7  4  5  8  5  3  2 10  4  3  4  2  6  5\n",
      "  3  9  7  3  3  6  5  1  4  7  2  5  5  2  7  6  5  6  4  7  4  3  5  7\n",
      "  5  6  8  3  5 11  5  4  5 10  8  3  5  5  1  6  7  4  5  4  3  6  8  7\n",
      "  5  4  4  5  3  1  5 10  4  5  8  8  7  3  7  6  4  5  1  7  7  3  3  7\n",
      "  4  3  1  6  4  3 10  4  5  6  3  1  8  1  8  6  4  5  3  3  6  6  3  3\n",
      "  1  4  7 11  5  7  2  4  3  8  3  5  4  5  8  2  6  7  4  2  7  2  2  0\n",
      "  7  8  4  4  6  6  2  8  8  7  1  8  8  9  7  9  6  6  3  2  6  3  4  5\n",
      "  2  4  8  6  4  7  6  7  4  8  3  9  7  3  2  5  4  5  5  7  6  4  5  4\n",
      " 11  7  3  5  5  5  4  6  6  4 11  6  3  1  4  6  8  6  4  3  4  6  4  6\n",
      "  4  9  2  7  6  8  4  4  3  2  4  3  5  2  5  8  2  2  4  8  2  7  6  5\n",
      "  3  3  6  3  3  2  6  8  4  3  5  4  7  3  6  8  5  5  3  4  5  5  6  6\n",
      "  1 11  5  5  4  5 10  5 10  5  3  5  2  4  3  8]\n"
     ]
    }
   ],
   "source": [
    "poisson_distribution = random.poisson(lam = 5, size = 1000)\n",
    "print (poisson_distribution)"
   ]
  },
  {
   "cell_type": "code",
   "execution_count": 15,
   "id": "0b7ce3d4-ead8-40ae-b6fc-7ec129f5cdfc",
   "metadata": {},
   "outputs": [
    {
     "name": "stdout",
     "output_type": "stream",
     "text": [
      "5.01\n"
     ]
    }
   ],
   "source": [
    "mean = np.mean(poisson_distribution)\n",
    "print (mean)"
   ]
  },
  {
   "cell_type": "code",
   "execution_count": 18,
   "id": "d34a8fe4-c0e1-417f-aa3a-ba96854cd5aa",
   "metadata": {},
   "outputs": [
    {
     "name": "stdout",
     "output_type": "stream",
     "text": [
      "5.2559000000000005\n"
     ]
    }
   ],
   "source": [
    "variance = np.var(poisson_distribution)\n",
    "print (variance)"
   ]
  },
  {
   "cell_type": "code",
   "execution_count": 12,
   "id": "39fe24d3-db35-42b5-b7f2-a0a4a5ad7d15",
   "metadata": {},
   "outputs": [
    {
     "data": {
      "image/png": "[encoded data removed]",
      "text/plain": [
       "<Figure size 640x480 with 1 Axes>"
      ]
     },
     "metadata": {},
     "output_type": "display_data"
    }
   ],
   "source": [
    "poisson_distribution = random.poisson(lam = 5, size = 1000)\n",
    "sns.histplot(poisson_distribution,kde = False, color = 'blue' )\n",
    "plt.title('visualisation of poisson distribution')\n",
    "plt.show()"
   ]
  }
 ],
 "metadata": {
  "kernelspec": {
   "display_name": "Python 3 (ipykernel)",
   "language": "python",
   "name": "python3"
  },
  "language_info": {
   "codemirror_mode": {
    "name": "ipython",
    "version": 3
   },
   "file_extension": ".py",
   "mimetype": "text/x-python",
   "name": "python",
   "nbconvert_exporter": "python",
   "pygments_lexer": "ipython3",
   "version": "3.12.6"
  }
 },
 "nbformat": 4,
 "nbformat_minor": 5
}
